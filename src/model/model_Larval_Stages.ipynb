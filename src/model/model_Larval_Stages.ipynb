version https://git-lfs.github.com/spec/v1
oid sha256:8e7f5180d985ea064f93fcded5c62a6000a3b4be3c59973db0e7a2969278a9ef
size 1386128
